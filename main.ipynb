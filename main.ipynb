{
 "cells": [
  {
   "cell_type": "code",
   "execution_count": null,
   "metadata": {},
   "outputs": [],
   "source": [
    "import numpy as np\n",
    "import utils\n",
    "import opt\n",
    "\n",
    "\n",
    "PARTITION = 0\n",
    "\n",
    "trainset, testset = utils.load_dataset(\"ALLAML\", PARTITION)\n",
    "data, labels = trainset[:, :-1], trainset[:, -1]\n",
    "centroids = utils.calculate_centroid(data, labels)\n",
    "X = data.T\n",
    "C = utils.calculate_C(labels, centroids).T\n",
    "\n",
    "A = opt.optimize(X, C)\n",
    "\n",
    "print(A)\n",
    "print(C)\n",
    "print(C - A @ A.T @ X)"
   ]
  }
 ],
 "metadata": {
  "kernelspec": {
   "display_name": "ml",
   "language": "python",
   "name": "python3"
  },
  "language_info": {
   "name": "python",
   "version": "3.10.16"
  }
 },
 "nbformat": 4,
 "nbformat_minor": 2
}
