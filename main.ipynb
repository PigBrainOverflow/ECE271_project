{
 "cells": [
  {
   "cell_type": "code",
   "execution_count": null,
   "metadata": {},
   "outputs": [],
   "source": [
    "import numpy as np\n",
    "import utils\n",
    "import opt\n",
    "\n",
    "\n",
    "PARTITION = 0\n",
    "\n",
    "trainset, testset = utils.load_dataset(\"ALLAML\", PARTITION)\n",
    "data, labels = trainset[:, :-1], trainset[:, -1]\n",
    "centroids = utils.calculate_centroid(data, labels)\n",
    "X = data.T\n",
    "\n",
    "C = utils.calculate_C(labels, centroids).T\n",
    "\n",
    "A = opt.optimize_autoencoder(X, C, lr=2e-3, max_iter=1000)"
   ]
  }
 ],
 "metadata": {
  "kernelspec": {
   "display_name": "ml",
   "language": "python",
   "name": "python3"
  },
  "language_info": {
   "codemirror_mode": {
    "name": "ipython",
    "version": 3
   },
   "file_extension": ".py",
   "mimetype": "text/x-python",
   "name": "python",
   "nbconvert_exporter": "python",
   "pygments_lexer": "ipython3",
   "version": "3.10.16"
  }
 },
 "nbformat": 4,
 "nbformat_minor": 2
}
